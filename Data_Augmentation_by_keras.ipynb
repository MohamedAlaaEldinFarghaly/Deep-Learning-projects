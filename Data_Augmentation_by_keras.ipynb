{
  "nbformat": 4,
  "nbformat_minor": 0,
  "metadata": {
    "colab": {
      "name": "Data Augmentation by keras.ipynb",
      "provenance": [],
      "authorship_tag": "ABX9TyNXB8gsNUL620Q9vMuGOkQd",
      "include_colab_link": true
    },
    "kernelspec": {
      "name": "python3",
      "display_name": "Python 3"
    }
  },
  "cells": [
    {
      "cell_type": "markdown",
      "metadata": {
        "id": "view-in-github",
        "colab_type": "text"
      },
      "source": [
        "<a href=\"https://colab.research.google.com/github/MohamedAlaaEldinFarghaly/Deep-Learning-projects/blob/master/Data_Augmentation_by_keras.ipynb\" target=\"_parent\"><img src=\"https://colab.research.google.com/assets/colab-badge.svg\" alt=\"Open In Colab\"/></a>"
      ]
    },
    {
      "cell_type": "markdown",
      "metadata": {
        "id": "pr9BH_koqfgk",
        "colab_type": "text"
      },
      "source": [
        "# 1-Data Augmentation"
      ]
    },
    {
      "cell_type": "code",
      "metadata": {
        "id": "H-0v0LmkqVlJ",
        "colab_type": "code",
        "colab": {}
      },
      "source": [
        "import numpy as np\n",
        "import matplotlib.pyplot as plt\n",
        "\n",
        "from keras.datasets import mnist\n",
        "from keras.preprocessing.image import ImageDataGenerator"
      ],
      "execution_count": null,
      "outputs": []
    },
    {
      "cell_type": "code",
      "metadata": {
        "id": "KE0GuRGKuII3",
        "colab_type": "code",
        "colab": {}
      },
      "source": [
        "(X_train, y_train), (X_test, y_test) = mnist.load_data()\n",
        "X_train = X_train.reshape(-1,28,28,1)"
      ],
      "execution_count": null,
      "outputs": []
    },
    {
      "cell_type": "code",
      "metadata": {
        "id": "t1KrVExkudeC",
        "colab_type": "code",
        "colab": {}
      },
      "source": [
        "train_datagen = ImageDataGenerator(horizontal_flip=True)\n",
        "train_datagen.fit(X_train)"
      ],
      "execution_count": null,
      "outputs": []
    },
    {
      "cell_type": "code",
      "metadata": {
        "id": "Ff0XJJ2Ouol6",
        "colab_type": "code",
        "colab": {
          "base_uri": "https://localhost:8080/",
          "height": 298
        },
        "outputId": "936dfba7-03cf-4890-e7d0-fa6ce97a6ecc"
      },
      "source": [
        "# transform the data\n",
        "for img, label in train_datagen.flow(X_train, y_train, batch_size=6):\n",
        "  for i in range(0, 6):\n",
        "    plt.subplot(2,3,i+1)\n",
        "    plt.title('Label {}'.format(label[i]))\n",
        "    plt.imshow(img[i].reshape(28, 28), cmap='gray')\n",
        "  break\n",
        "plt.tight_layout()\n",
        "plt.show()"
      ],
      "execution_count": null,
      "outputs": [
        {
          "output_type": "display_data",
          "data": {
            "image/png": "[encoded data removed]",
            "text/plain": [
              "<Figure size 432x288 with 6 Axes>"
            ]
          },
          "metadata": {
            "tags": [],
            "needs_background": "light"
          }
        }
      ]
    },
    {
      "cell_type": "markdown",
      "metadata": {
        "id": "_elnU4XsUiz7",
        "colab_type": "text"
      },
      "source": [
        "# 2-Convolution Autoencoder"
      ]
    },
    {
      "cell_type": "markdown",
      "metadata": {
        "id": "7NcSxm5B3mur",
        "colab_type": "text"
      },
      "source": [
        "###       2-a Generating low-resolution images"
      ]
    },
    {
      "cell_type": "code",
      "metadata": {
        "id": "qtGrhyFsVXWn",
        "colab_type": "code",
        "colab": {}
      },
      "source": [
        "import numpy as np\n",
        "import matplotlib.pyplot as plt\n",
        "%matplotlib inline\n",
        "\n",
        "from keras.datasets import mnist \n",
        "(X_train,y_train), (X_test,y_test)= mnist.load_data()\n",
        "\n",
        "from keras.layers import  Conv2D, MaxPooling2D, Dropout, UpSampling2D\n",
        "from keras.models import Sequential, Model\n",
        "from keras.optimizers import Adam\n",
        "from keras import backend as k\n",
        "\n",
        "#from scipy.misc import imresize   # for resizing images\n",
        "from PIL import Image"
      ],
      "execution_count": null,
      "outputs": []
    },
    {
      "cell_type": "code",
      "metadata": {
        "id": "BTb3eKBiYJ9h",
        "colab_type": "code",
        "colab": {}
      },
      "source": [
        "def reshape(x):\n",
        "  \"\"\"Reshape images to 14*14\"\"\"\n",
        "  images=[]\n",
        "  for i in range(0,x.shape[0]):\n",
        "    img = Image.fromarray(x[i]).resize((14,14))\n",
        "    img.show()\n",
        "    y=np.array(img)\n",
        "    images.append(y)\n",
        "  return images"
      ],
      "execution_count": null,
      "outputs": []
    },
    {
      "cell_type": "code",
      "metadata": {
        "id": "18R2ElkwipRX",
        "colab_type": "code",
        "colab": {
          "base_uri": "https://localhost:8080/",
          "height": 316
        },
        "outputId": "c9162d5d-47b1-46ed-f848-1ab2cec1c75a"
      },
      "source": [
        "print(X_train.shape[0])\n",
        "m= np.array(reshape(X_train))\n",
        "print(np.shape(m))\n",
        "plt.imshow(m[0])"
      ],
      "execution_count": null,
      "outputs": [
        {
          "output_type": "stream",
          "text": [
            "60000\n",
            "(60000, 14, 14)\n"
          ],
          "name": "stdout"
        },
        {
          "output_type": "execute_result",
          "data": {
            "text/plain": [
              "<matplotlib.image.AxesImage at 0x7f8d88d7a1d0>"
            ]
          },
          "metadata": {
            "tags": []
          },
          "execution_count": 52
        },
        {
          "output_type": "display_data",
          "data": {
            "image/png": "[encoded data removed]",
            "text/plain": [
              "<Figure size 432x288 with 1 Axes>"
            ]
          },
          "metadata": {
            "tags": [],
            "needs_background": "light"
          }
        }
      ]
    },
    {
      "cell_type": "code",
      "metadata": {
        "id": "GW4io6Ie4a2r",
        "colab_type": "code",
        "colab": {}
      },
      "source": [
        "XX_train = np.array(reshape(X_train))\n",
        "XX_test = np.array(reshape(X_test))"
      ],
      "execution_count": null,
      "outputs": []
    },
    {
      "cell_type": "markdown",
      "metadata": {
        "id": "nBzMsuRD4HNa",
        "colab_type": "text"
      },
      "source": [
        "##    2-b Scaling"
      ]
    },
    {
      "cell_type": "code",
      "metadata": {
        "id": "m3nvI5qxhHif",
        "colab_type": "code",
        "colab": {}
      },
      "source": [
        "XX_train = XX_train/255\n",
        "X_train = X_train/255\n",
        "\n",
        "XX_test = XX_test/255\n",
        "X_test = X_test/255"
      ],
      "execution_count": null,
      "outputs": []
    },
    {
      "cell_type": "markdown",
      "metadata": {
        "id": "Ibg37IUB5Tmb",
        "colab_type": "text"
      },
      "source": [
        "### autoencoder"
      ]
    },
    {
      "cell_type": "code",
      "metadata": {
        "id": "hTJWRItr5TM2",
        "colab_type": "code",
        "colab": {}
      },
      "source": [
        "batch_size = 128\n",
        "epochs = 40\n",
        "input_shape = (14,14,1)"
      ],
      "execution_count": null,
      "outputs": []
    },
    {
      "cell_type": "code",
      "metadata": {
        "id": "KyzdDjUS5OK4",
        "colab_type": "code",
        "colab": {}
      },
      "source": [
        "# define autoencoder\n",
        "def make_autoencoder(input_shape):\n",
        "  generator = Sequential()\n",
        "  generator.add(Conv2D(64, (3, 3), activation='relu', padding='same', input_shape=input_shape))\n",
        "  generator.add(MaxPooling2D(pool_size=(2, 2)))\n",
        "\n",
        "  generator.add(Conv2D(128, (3, 3), activation='relu', padding='same'))\n",
        "  \n",
        "  generator.add(Conv2D(128, (3, 3), activation='relu', padding='same'))\n",
        "  generator.add(UpSampling2D((2, 2)))\n",
        "  \n",
        "  generator.add(Conv2D(64, (3, 3), activation='relu', padding='same'))\n",
        "  generator.add(UpSampling2D((2, 2)))\n",
        "  \n",
        "  generator.add(Conv2D(1, (3, 3), activation='sigmoid', padding='same'))\n",
        "  \n",
        "  return generator"
      ],
      "execution_count": null,
      "outputs": []
    },
    {
      "cell_type": "markdown",
      "metadata": {
        "id": "fZK52-ox-GeA",
        "colab_type": "text"
      },
      "source": [
        "We are using mean_squared_error as the loss, as we want the model to predict th pixel values"
      ]
    },
    {
      "cell_type": "code",
      "metadata": {
        "id": "Dg5B8F6N9OrY",
        "colab_type": "code",
        "colab": {
          "base_uri": "https://localhost:8080/",
          "height": 425
        },
        "outputId": "eaa18ef5-5e6b-4576-bb00-7183ce687dc8"
      },
      "source": [
        "autoencoder = make_autoencoder(input_shape)\n",
        "\n",
        "# compile auto encoder\n",
        "autoencoder.compile(loss='mean_squared_error', optimizer = Adam(lr=0.0002, beta_1=0.5))\n",
        "\n",
        "# auto encoder summary\n",
        "autoencoder.summary()"
      ],
      "execution_count": null,
      "outputs": [
        {
          "output_type": "stream",
          "text": [
            "Model: \"sequential_1\"\n",
            "_________________________________________________________________\n",
            "Layer (type)                 Output Shape              Param #   \n",
            "=================================================================\n",
            "conv2d_1 (Conv2D)            (None, 14, 14, 64)        640       \n",
            "_________________________________________________________________\n",
            "max_pooling2d_1 (MaxPooling2 (None, 7, 7, 64)          0         \n",
            "_________________________________________________________________\n",
            "conv2d_2 (Conv2D)            (None, 7, 7, 128)         73856     \n",
            "_________________________________________________________________\n",
            "conv2d_3 (Conv2D)            (None, 7, 7, 128)         147584    \n",
            "_________________________________________________________________\n",
            "up_sampling2d_1 (UpSampling2 (None, 14, 14, 128)       0         \n",
            "_________________________________________________________________\n",
            "conv2d_4 (Conv2D)            (None, 14, 14, 64)        73792     \n",
            "_________________________________________________________________\n",
            "up_sampling2d_2 (UpSampling2 (None, 28, 28, 64)        0         \n",
            "_________________________________________________________________\n",
            "conv2d_5 (Conv2D)            (None, 28, 28, 1)         577       \n",
            "=================================================================\n",
            "Total params: 296,449\n",
            "Trainable params: 296,449\n",
            "Non-trainable params: 0\n",
            "_________________________________________________________________\n"
          ],
          "name": "stdout"
        }
      ]
    },
    {
      "cell_type": "code",
      "metadata": {
        "id": "2KxiShgL9TC2",
        "colab_type": "code",
        "colab": {
          "base_uri": "https://localhost:8080/",
          "height": 1000
        },
        "outputId": "7453efe3-2199-4b6f-a7f0-9a024a859acf"
      },
      "source": [
        "# fit autoencoder\n",
        "autoencoder_train = autoencoder.fit(XX_train.reshape(-1,14,14,1), \n",
        "                                    X_train.reshape(-1,28,28,1),\n",
        "                                    batch_size=batch_size, \n",
        "                                    epochs=epochs, verbose=1,\n",
        "                                    validation_split = 0.2)"
      ],
      "execution_count": null,
      "outputs": [
        {
          "output_type": "stream",
          "text": [
            "Train on 48000 samples, validate on 12000 samples\n",
            "Epoch 1/40\n",
            "48000/48000 [==============================] - 310s 6ms/step - loss: 0.0282 - val_loss: 0.0094\n",
            "Epoch 2/40\n",
            "48000/48000 [==============================] - 314s 7ms/step - loss: 0.0075 - val_loss: 0.0062\n",
            "Epoch 3/40\n",
            "48000/48000 [==============================] - 309s 6ms/step - loss: 0.0055 - val_loss: 0.0060\n",
            "Epoch 4/40\n",
            "48000/48000 [==============================] - 315s 7ms/step - loss: 0.0046 - val_loss: 0.0042\n",
            "Epoch 5/40\n",
            "48000/48000 [==============================] - 303s 6ms/step - loss: 0.0041 - val_loss: 0.0043\n",
            "Epoch 6/40\n",
            "48000/48000 [==============================] - 305s 6ms/step - loss: 0.0037 - val_loss: 0.0035\n",
            "Epoch 7/40\n",
            "48000/48000 [==============================] - 306s 6ms/step - loss: 0.0035 - val_loss: 0.0033\n",
            "Epoch 8/40\n",
            "48000/48000 [==============================] - 307s 6ms/step - loss: 0.0033 - val_loss: 0.0033\n",
            "Epoch 9/40\n",
            "48000/48000 [==============================] - 308s 6ms/step - loss: 0.0031 - val_loss: 0.0030\n",
            "Epoch 10/40\n",
            "48000/48000 [==============================] - 310s 6ms/step - loss: 0.0029 - val_loss: 0.0031\n",
            "Epoch 11/40\n",
            "48000/48000 [==============================] - 310s 6ms/step - loss: 0.0028 - val_loss: 0.0028\n",
            "Epoch 12/40\n",
            "48000/48000 [==============================] - 315s 7ms/step - loss: 0.0027 - val_loss: 0.0026\n",
            "Epoch 13/40\n",
            "48000/48000 [==============================] - 318s 7ms/step - loss: 0.0026 - val_loss: 0.0026\n",
            "Epoch 14/40\n",
            "48000/48000 [==============================] - 324s 7ms/step - loss: 0.0025 - val_loss: 0.0025\n",
            "Epoch 15/40\n",
            "48000/48000 [==============================] - 319s 7ms/step - loss: 0.0025 - val_loss: 0.0025\n",
            "Epoch 16/40\n",
            "48000/48000 [==============================] - 323s 7ms/step - loss: 0.0024 - val_loss: 0.0024\n",
            "Epoch 17/40\n",
            "48000/48000 [==============================] - 317s 7ms/step - loss: 0.0023 - val_loss: 0.0024\n",
            "Epoch 18/40\n",
            "48000/48000 [==============================] - 318s 7ms/step - loss: 0.0023 - val_loss: 0.0025\n",
            "Epoch 19/40\n",
            "48000/48000 [==============================] - 315s 7ms/step - loss: 0.0022 - val_loss: 0.0022\n",
            "Epoch 20/40\n",
            "48000/48000 [==============================] - 309s 6ms/step - loss: 0.0022 - val_loss: 0.0022\n",
            "Epoch 21/40\n",
            "48000/48000 [==============================] - 312s 6ms/step - loss: 0.0021 - val_loss: 0.0026\n",
            "Epoch 22/40\n",
            "48000/48000 [==============================] - 308s 6ms/step - loss: 0.0021 - val_loss: 0.0021\n",
            "Epoch 23/40\n",
            "48000/48000 [==============================] - 309s 6ms/step - loss: 0.0021 - val_loss: 0.0021\n",
            "Epoch 24/40\n",
            "48000/48000 [==============================] - 310s 6ms/step - loss: 0.0020 - val_loss: 0.0020\n",
            "Epoch 25/40\n",
            "48000/48000 [==============================] - 313s 7ms/step - loss: 0.0020 - val_loss: 0.0020\n",
            "Epoch 26/40\n",
            "48000/48000 [==============================] - 318s 7ms/step - loss: 0.0020 - val_loss: 0.0020\n",
            "Epoch 27/40\n",
            "48000/48000 [==============================] - 309s 6ms/step - loss: 0.0019 - val_loss: 0.0021\n",
            "Epoch 28/40\n",
            "48000/48000 [==============================] - 305s 6ms/step - loss: 0.0019 - val_loss: 0.0020\n",
            "Epoch 29/40\n",
            "48000/48000 [==============================] - 304s 6ms/step - loss: 0.0019 - val_loss: 0.0019\n",
            "Epoch 30/40\n",
            "48000/48000 [==============================] - 309s 6ms/step - loss: 0.0019 - val_loss: 0.0019\n",
            "Epoch 31/40\n",
            "48000/48000 [==============================] - 310s 6ms/step - loss: 0.0018 - val_loss: 0.0018\n",
            "Epoch 32/40\n",
            "48000/48000 [==============================] - 317s 7ms/step - loss: 0.0018 - val_loss: 0.0018\n",
            "Epoch 33/40\n",
            "48000/48000 [==============================] - 309s 6ms/step - loss: 0.0018 - val_loss: 0.0018\n",
            "Epoch 34/40\n",
            "48000/48000 [==============================] - 303s 6ms/step - loss: 0.0018 - val_loss: 0.0018\n",
            "Epoch 35/40\n",
            "48000/48000 [==============================] - 293s 6ms/step - loss: 0.0018 - val_loss: 0.0020\n",
            "Epoch 36/40\n",
            "48000/48000 [==============================] - 304s 6ms/step - loss: 0.0017 - val_loss: 0.0017\n",
            "Epoch 37/40\n",
            "48000/48000 [==============================] - 309s 6ms/step - loss: 0.0017 - val_loss: 0.0018\n",
            "Epoch 38/40\n",
            "48000/48000 [==============================] - 303s 6ms/step - loss: 0.0017 - val_loss: 0.0018\n",
            "Epoch 39/40\n",
            "48000/48000 [==============================] - 308s 6ms/step - loss: 0.0017 - val_loss: 0.0017\n",
            "Epoch 40/40\n",
            "48000/48000 [==============================] - 296s 6ms/step - loss: 0.0017 - val_loss: 0.0017\n"
          ],
          "name": "stdout"
        }
      ]
    },
    {
      "cell_type": "markdown",
      "metadata": {
        "id": "0uophL3K_5Rr",
        "colab_type": "text"
      },
      "source": [
        "**Loss plot**\n"
      ]
    },
    {
      "cell_type": "code",
      "metadata": {
        "id": "aqvvVixW-t4W",
        "colab_type": "code",
        "colab": {
          "base_uri": "https://localhost:8080/",
          "height": 602
        },
        "outputId": "48289fe3-89c4-4761-de8f-10b99be6078d"
      },
      "source": [
        "loss = autoencoder_train.history['loss']\n",
        "val_loss = autoencoder_train.history['val_loss']\n",
        "epochs_ = [x for x in range(epochs)]\n",
        "plt.figure()\n",
        "plt.plot(epochs_, loss, label='Training loss')\n",
        "plt.plot(epochs_, val_loss, label='Validation loss')\n",
        "plt.title('Training and validation loss')\n",
        "plt.legend()\n",
        "plt.show()\n",
        "\n",
        "print('Input')\n",
        "plt.figure(figsize=(5,5))\n",
        "\n",
        "for i in range(9):\n",
        "  plt.subplot(331 + i)\n",
        "  plt.imshow(np.squeeze(XX_test.reshape(-1,14,14)[i]), cmap='gray')\n",
        "plt.show()"
      ],
      "execution_count": null,
      "outputs": [
        {
          "output_type": "display_data",
          "data": {
            "image/png": "[encoded data removed]",
            "text/plain": [
              "<Figure size 432x288 with 1 Axes>"
            ]
          },
          "metadata": {
            "tags": [],
            "needs_background": "light"
          }
        },
        {
          "output_type": "stream",
          "text": [
            "Input\n"
          ],
          "name": "stdout"
        },
        {
          "output_type": "display_data",
          "data": {
            "image/png": "[encoded data removed]",
            "text/plain": [
              "<Figure size 360x360 with 9 Axes>"
            ]
          },
          "metadata": {
            "tags": [],
            "needs_background": "light"
          }
        }
      ]
    },
    {
      "cell_type": "markdown",
      "metadata": {
        "id": "U6FlIxLXAVdE",
        "colab_type": "text"
      },
      "source": [
        "test Result"
      ]
    },
    {
      "cell_type": "code",
      "metadata": {
        "id": "vPp4VAUzAYK1",
        "colab_type": "code",
        "colab": {
          "base_uri": "https://localhost:8080/",
          "height": 339
        },
        "outputId": "4c69f3f7-da66-40a4-f2f0-c5198e6e93f5"
      },
      "source": [
        "print('GENERATED')\n",
        "plt.figure(figsize=(5,5))\n",
        "for i in range(9):\n",
        "  pred = autoencoder.predict(XX_test.reshape(-1,14,14,1)[i:i+1], verbose=0)\n",
        "  plt.subplot(331 + i)\n",
        "  plt.imshow(pred[0].reshape(28,28), cmap='gray')\n",
        "plt.show()"
      ],
      "execution_count": null,
      "outputs": [
        {
          "output_type": "stream",
          "text": [
            "GENERATED\n"
          ],
          "name": "stdout"
        },
        {
          "output_type": "display_data",
          "data": {
            "image/png": "[encoded data removed]",
            "text/plain": [
              "<Figure size 360x360 with 9 Axes>"
            ]
          },
          "metadata": {
            "tags": [],
            "needs_background": "light"
          }
        }
      ]
    },
    {
      "cell_type": "code",
      "metadata": {
        "id": "F207SR-40cG0",
        "colab_type": "code",
        "colab": {}
      },
      "source": [
        ""
      ],
      "execution_count": null,
      "outputs": []
    }
  ]
}