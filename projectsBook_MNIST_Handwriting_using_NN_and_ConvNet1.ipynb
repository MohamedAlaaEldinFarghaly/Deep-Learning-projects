{
  "nbformat": 4,
  "nbformat_minor": 0,
  "metadata": {
    "colab": {
      "name": "projectsBook_MNIST_Handwriting_using_NN_and_ConvNet1.ipynb",
      "provenance": [],
      "authorship_tag": "ABX9TyM4aCL69VBMwclgW8UCmrrZ",
      "include_colab_link": true
    },
    "kernelspec": {
      "name": "python3",
      "display_name": "Python 3"
    }
  },
  "cells": [
    {
      "cell_type": "markdown",
      "metadata": {
        "id": "view-in-github",
        "colab_type": "text"
      },
      "source": [
        "<a href=\"https://colab.research.google.com/github/MohamedAlaaEldinFarghaly/hello-world/blob/master/projectsBook_MNIST_Handwriting_using_NN_and_ConvNet1.ipynb\" target=\"_parent\"><img src=\"https://colab.research.google.com/assets/colab-badge.svg\" alt=\"Open In Colab\"/></a>"
      ]
    },
    {
      "cell_type": "markdown",
      "metadata": {
        "id": "fFVmsI7cV5X1",
        "colab_type": "text"
      },
      "source": [
        "# **MNIST_Handwriting**\n",
        "  ### **1-REGRESSION NN**"
      ]
    },
    {
      "cell_type": "markdown",
      "metadata": {
        "id": "cClcz4mf-Rac",
        "colab_type": "text"
      },
      "source": [
        "Set random seed for repreducability"
      ]
    },
    {
      "cell_type": "code",
      "metadata": {
        "id": "X5za9j7E5rR8",
        "colab_type": "code",
        "colab": {}
      },
      "source": [
        "import numpy as np\n",
        "seed_val =9000\n",
        "np.random.seed(seed_val)"
      ],
      "execution_count": null,
      "outputs": []
    },
    {
      "cell_type": "markdown",
      "metadata": {
        "id": "tZ454ofr-cLm",
        "colab_type": "text"
      },
      "source": [
        "import mnist data set from keras datasets"
      ]
    },
    {
      "cell_type": "code",
      "metadata": {
        "id": "AWCDUTwih4HC",
        "colab_type": "code",
        "colab": {
          "base_uri": "https://localhost:8080/",
          "height": 34
        },
        "outputId": "5b86fbe6-b314-491e-9a2d-3180d7073eaf"
      },
      "source": [
        "from keras.datasets import mnist"
      ],
      "execution_count": null,
      "outputs": [
        {
          "output_type": "stream",
          "text": [
            "Using TensorFlow backend.\n"
          ],
          "name": "stderr"
        }
      ]
    },
    {
      "cell_type": "code",
      "metadata": {
        "id": "GchsgXZO8WDO",
        "colab_type": "code",
        "colab": {
          "base_uri": "https://localhost:8080/",
          "height": 51
        },
        "outputId": "654db06f-6e3c-4b91-f925-b7c7175374c5"
      },
      "source": [
        "(X_train,y_train),(X_test,y_test)=mnist.load_data()"
      ],
      "execution_count": null,
      "outputs": [
        {
          "output_type": "stream",
          "text": [
            "Downloading data from https://s3.amazonaws.com/img-datasets/mnist.npz\n",
            "11493376/11490434 [==============================] - 1s 0us/step\n"
          ],
          "name": "stdout"
        }
      ]
    },
    {
      "cell_type": "code",
      "metadata": {
        "id": "C6Xyiejd80sk",
        "colab_type": "code",
        "colab": {
          "base_uri": "https://localhost:8080/",
          "height": 85
        },
        "outputId": "7e67a91f-e5f9-4ae3-bbda-f8c04c2130d5"
      },
      "source": [
        "print(X_train.shape)\n",
        "print(X_test.shape)\n",
        "print(X_train[0].shape)\n",
        "print(len(np.unique(y_train)))"
      ],
      "execution_count": null,
      "outputs": [
        {
          "output_type": "stream",
          "text": [
            "(60000, 28, 28)\n",
            "(10000, 28, 28)\n",
            "(28, 28)\n",
            "10\n"
          ],
          "name": "stdout"
        }
      ]
    },
    {
      "cell_type": "markdown",
      "metadata": {
        "id": "KKweUJIU-kNI",
        "colab_type": "text"
      },
      "source": [
        "Show some images of training data"
      ]
    },
    {
      "cell_type": "code",
      "metadata": {
        "id": "Yy10IYM3-AaI",
        "colab_type": "code",
        "colab": {}
      },
      "source": [
        "import matplotlib.pyplot as plt"
      ],
      "execution_count": null,
      "outputs": []
    },
    {
      "cell_type": "code",
      "metadata": {
        "id": "7mkQAy0b-M8V",
        "colab_type": "code",
        "colab": {
          "base_uri": "https://localhost:8080/",
          "height": 248
        },
        "outputId": "7d2c4f53-4bac-489f-a2c8-16d2963b7d0d"
      },
      "source": [
        "#plot 9 images\n",
        "for i in range(0,9):\n",
        "  plt.subplot(331+i)\n",
        "  plt.axis('off')\n",
        "  plt.imshow(X_train[i], cmap='gray')"
      ],
      "execution_count": null,
      "outputs": [
        {
          "output_type": "display_data",
          "data": {
            "image/png": "[encoded data removed]",
            "text/plain": [
              "<Figure size 432x288 with 9 Axes>"
            ]
          },
          "metadata": {
            "tags": [],
            "needs_background": "light"
          }
        }
      ]
    },
    {
      "cell_type": "markdown",
      "metadata": {
        "id": "-8eScOsnAf9A",
        "colab_type": "text"
      },
      "source": [
        "Set Hyperprameters:"
      ]
    },
    {
      "cell_type": "code",
      "metadata": {
        "id": "-bbi3aH8_wwY",
        "colab_type": "code",
        "colab": {}
      },
      "source": [
        "epochs= 20\n",
        "batch_size = 128\n",
        "learning_rate =0.0001\n",
        "\n",
        "input_shape=(28,28,1)"
      ],
      "execution_count": null,
      "outputs": []
    },
    {
      "cell_type": "markdown",
      "metadata": {
        "id": "3fZ_WLQ9CMQP",
        "colab_type": "text"
      },
      "source": [
        "Set adam optimizer"
      ]
    },
    {
      "cell_type": "code",
      "metadata": {
        "id": "kBSmQeOaCHLS",
        "colab_type": "code",
        "colab": {}
      },
      "source": [
        "from keras.optimizers import Adam\n",
        "optimizer = Adam(lr = learning_rate)"
      ],
      "execution_count": null,
      "outputs": []
    },
    {
      "cell_type": "markdown",
      "metadata": {
        "id": "C6cKuC73CvFR",
        "colab_type": "text"
      },
      "source": [
        "Build the model using keras"
      ]
    },
    {
      "cell_type": "code",
      "metadata": {
        "id": "GtsKLMvECdo3",
        "colab_type": "code",
        "colab": {
          "base_uri": "https://localhost:8080/",
          "height": 255
        },
        "outputId": "afde999a-1191-4e23-f242-8927da638d0e"
      },
      "source": [
        "from keras.models import Sequential\n",
        "model = Sequential()\n",
        "\n",
        "from keras.layers import Dense\n",
        "model.add(Dense(300,input_shape=(784,), activation = 'relu' ,name='Dense_one')) # a layer with 300 neuron\n",
        "# the input_shape parameter as being equal to (784,) to indicate to the model that it will be accepting input arrays of the shape (784,). 28*28=784 This means that the input layer will have 784 neurons.\n",
        "\n",
        "#add another layer\n",
        "model.add(Dense(300, activation = 'relu',name='Dense_two'))\n",
        "#final layer\n",
        "model.add(Dense(10, activation = 'softmax',name='output_layer')) # 10 is the number of classes\n",
        " \n",
        " #compile the model\n",
        "model.compile(loss = 'sparse_categorical_crossentropy', optimizer = optimizer,\n",
        "              metrics = ['accuracy'])\n",
        " \n",
        "model.summary()"
      ],
      "execution_count": null,
      "outputs": [
        {
          "output_type": "stream",
          "text": [
            "Model: \"sequential_1\"\n",
            "_________________________________________________________________\n",
            "Layer (type)                 Output Shape              Param #   \n",
            "=================================================================\n",
            "Dense_one (Dense)            (None, 300)               235500    \n",
            "_________________________________________________________________\n",
            "Dense_two (Dense)            (None, 300)               90300     \n",
            "_________________________________________________________________\n",
            "output_layer (Dense)         (None, 10)                3010      \n",
            "=================================================================\n",
            "Total params: 328,810\n",
            "Trainable params: 328,810\n",
            "Non-trainable params: 0\n",
            "_________________________________________________________________\n"
          ],
          "name": "stdout"
        }
      ]
    },
    {
      "cell_type": "markdown",
      "metadata": {
        "id": "8gw3sabfHX3C",
        "colab_type": "text"
      },
      "source": [
        "Split the training data"
      ]
    },
    {
      "cell_type": "code",
      "metadata": {
        "id": "CnKUi-FIFcel",
        "colab_type": "code",
        "colab": {}
      },
      "source": [
        "from sklearn.model_selection import train_test_split\n",
        "\n",
        "sX_train, X_val, sy_train, y_val = train_test_split(X_train, y_train, stratify = y_train, test_size = 5000, random_state=42)"
      ],
      "execution_count": null,
      "outputs": []
    },
    {
      "cell_type": "code",
      "metadata": {
        "id": "aHvbPAkOJgDT",
        "colab_type": "code",
        "colab": {
          "base_uri": "https://localhost:8080/",
          "height": 85
        },
        "outputId": "de4133dc-dda1-40bb-c6f7-a22f6658f5b1"
      },
      "source": [
        "print(sX_train.shape)\n",
        "print(X_val.shape)\n",
        "print(sy_train.shape)\n",
        "print(y_val.shape)"
      ],
      "execution_count": null,
      "outputs": [
        {
          "output_type": "stream",
          "text": [
            "(55000, 28, 28)\n",
            "(5000, 28, 28)\n",
            "(55000,)\n",
            "(5000,)\n"
          ],
          "name": "stdout"
        }
      ]
    },
    {
      "cell_type": "markdown",
      "metadata": {
        "id": "3LQPaHcXLM0v",
        "colab_type": "text"
      },
      "source": [
        "Reshape the input images to be (28*28,) =(784,)"
      ]
    },
    {
      "cell_type": "code",
      "metadata": {
        "id": "NKxdg1rpJsDS",
        "colab_type": "code",
        "colab": {}
      },
      "source": [
        "sX_train = sX_train.reshape(-1,784)\n",
        "X_val =X_val.reshape(-1,784)\n",
        "X_test =X_test.reshape(-1,784)"
      ],
      "execution_count": null,
      "outputs": []
    },
    {
      "cell_type": "markdown",
      "metadata": {
        "id": "8Vuqbi3fMGjY",
        "colab_type": "text"
      },
      "source": [
        "Fitting the model"
      ]
    },
    {
      "cell_type": "code",
      "metadata": {
        "id": "r2LcXfk7L86v",
        "colab_type": "code",
        "colab": {
          "base_uri": "https://localhost:8080/",
          "height": 714
        },
        "outputId": "f96ad4d5-399a-4c6f-d60a-1338b35d6d0c"
      },
      "source": [
        "history= model.fit(sX_train,sy_train, epochs=epochs, batch_size=batch_size, validation_data=(X_val,y_val))"
      ],
      "execution_count": null,
      "outputs": [
        {
          "output_type": "stream",
          "text": [
            "Train on 55000 samples, validate on 5000 samples\n",
            "Epoch 1/20\n",
            "55000/55000 [==============================] - 4s 76us/step - loss: 6.1219 - accuracy: 0.8112 - val_loss: 2.3440 - val_accuracy: 0.9030\n",
            "Epoch 2/20\n",
            "55000/55000 [==============================] - 4s 69us/step - loss: 1.5409 - accuracy: 0.9207 - val_loss: 1.6498 - val_accuracy: 0.9162\n",
            "Epoch 3/20\n",
            "55000/55000 [==============================] - 4s 70us/step - loss: 0.9039 - accuracy: 0.9423 - val_loss: 1.2889 - val_accuracy: 0.9286\n",
            "Epoch 4/20\n",
            "55000/55000 [==============================] - 4s 69us/step - loss: 0.5834 - accuracy: 0.9559 - val_loss: 1.0990 - val_accuracy: 0.9306\n",
            "Epoch 5/20\n",
            "55000/55000 [==============================] - 4s 69us/step - loss: 0.3828 - accuracy: 0.9663 - val_loss: 0.9993 - val_accuracy: 0.9382\n",
            "Epoch 6/20\n",
            "55000/55000 [==============================] - 4s 69us/step - loss: 0.2487 - accuracy: 0.9744 - val_loss: 0.9789 - val_accuracy: 0.9362\n",
            "Epoch 7/20\n",
            "55000/55000 [==============================] - 4s 69us/step - loss: 0.1785 - accuracy: 0.9790 - val_loss: 0.9134 - val_accuracy: 0.9436\n",
            "Epoch 8/20\n",
            "55000/55000 [==============================] - 4s 69us/step - loss: 0.1190 - accuracy: 0.9825 - val_loss: 0.9421 - val_accuracy: 0.9408\n",
            "Epoch 9/20\n",
            "55000/55000 [==============================] - 4s 69us/step - loss: 0.0876 - accuracy: 0.9867 - val_loss: 0.9133 - val_accuracy: 0.9422\n",
            "Epoch 10/20\n",
            "55000/55000 [==============================] - 4s 70us/step - loss: 0.0656 - accuracy: 0.9890 - val_loss: 0.8624 - val_accuracy: 0.9454\n",
            "Epoch 11/20\n",
            "55000/55000 [==============================] - 4s 69us/step - loss: 0.0541 - accuracy: 0.9902 - val_loss: 0.8429 - val_accuracy: 0.9470\n",
            "Epoch 12/20\n",
            "55000/55000 [==============================] - 4s 69us/step - loss: 0.0440 - accuracy: 0.9917 - val_loss: 0.7933 - val_accuracy: 0.9500\n",
            "Epoch 13/20\n",
            "55000/55000 [==============================] - 4s 70us/step - loss: 0.0632 - accuracy: 0.9894 - val_loss: 0.7878 - val_accuracy: 0.9510\n",
            "Epoch 14/20\n",
            "55000/55000 [==============================] - 4s 70us/step - loss: 0.0435 - accuracy: 0.9919 - val_loss: 0.7504 - val_accuracy: 0.9536\n",
            "Epoch 15/20\n",
            "55000/55000 [==============================] - 4s 69us/step - loss: 0.0373 - accuracy: 0.9927 - val_loss: 0.7244 - val_accuracy: 0.9552\n",
            "Epoch 16/20\n",
            "55000/55000 [==============================] - 4s 69us/step - loss: 0.0485 - accuracy: 0.9915 - val_loss: 0.7536 - val_accuracy: 0.9544\n",
            "Epoch 17/20\n",
            "55000/55000 [==============================] - 4s 69us/step - loss: 0.0469 - accuracy: 0.9926 - val_loss: 0.7758 - val_accuracy: 0.9552\n",
            "Epoch 18/20\n",
            "55000/55000 [==============================] - 4s 68us/step - loss: 0.0326 - accuracy: 0.9944 - val_loss: 0.7400 - val_accuracy: 0.9570\n",
            "Epoch 19/20\n",
            "55000/55000 [==============================] - 4s 67us/step - loss: 0.0294 - accuracy: 0.9947 - val_loss: 0.7215 - val_accuracy: 0.9616\n",
            "Epoch 20/20\n",
            "55000/55000 [==============================] - 4s 68us/step - loss: 0.0380 - accuracy: 0.9936 - val_loss: 0.7020 - val_accuracy: 0.9602\n"
          ],
          "name": "stdout"
        }
      ]
    },
    {
      "cell_type": "markdown",
      "metadata": {
        "id": "K7oRgKduPHc6",
        "colab_type": "text"
      },
      "source": [
        "Evaluate Test Data"
      ]
    },
    {
      "cell_type": "code",
      "metadata": {
        "id": "covsH4WNNC_k",
        "colab_type": "code",
        "colab": {
          "base_uri": "https://localhost:8080/",
          "height": 68
        },
        "outputId": "18d020ef-96f1-45a1-8127-d56fbdfe2893"
      },
      "source": [
        "loss, acc =  model.evaluate(X_test,y_test)\n",
        "print('Test loss= ',loss)\n",
        "print('Accuracy= ',acc)"
      ],
      "execution_count": null,
      "outputs": [
        {
          "output_type": "stream",
          "text": [
            "10000/10000 [==============================] - 0s 38us/step\n",
            "Test loss=  0.6916365326185768\n",
            "Accuracy=  0.9609000086784363\n"
          ],
          "name": "stdout"
        }
      ]
    },
    {
      "cell_type": "markdown",
      "metadata": {
        "id": "yGNsVkUnRN_l",
        "colab_type": "text"
      },
      "source": [
        "Function to plot the train and validation loss and accuracy that we have stored in the history variable:\n"
      ]
    },
    {
      "cell_type": "code",
      "metadata": {
        "id": "DaWkfvdhP_Bw",
        "colab_type": "code",
        "colab": {
          "base_uri": "https://localhost:8080/",
          "height": 628
        },
        "outputId": "491755aa-63f3-45bf-ded3-8232be4e1212"
      },
      "source": [
        "import matplotlib.pyplot as plt\n",
        "\n",
        "def loss_plot(history):\n",
        "  train_acc = history.history['accuracy']\n",
        "  val_acc = history.history['val_accuracy']\n",
        "\n",
        "  plt.plot(np.arange(1,21),train_acc, marker = 'D', label = 'Training Accuracy')\n",
        "  plt.plot(np.arange(1,21),val_acc, marker = 'o', label = 'Validation Accuracy')\n",
        "  plt.xlabel('Epochs')\n",
        "  plt.ylabel('Accuracy')\n",
        "  plt.title('Train/Validation Accuracy')\n",
        "  plt.legend()\n",
        "  plt.margins(0.02)\n",
        "  plt.show()\n",
        "\n",
        "  train_loss = history.history['loss']\n",
        "  val_loss = history.history['val_loss']\n",
        "  plt.figure(figsize=(9,5))\n",
        "  plt.plot(np.arange(1,21),train_loss, marker = 'D', label = 'Training Loss')\n",
        "  plt.plot(np.arange(1,21),val_loss, marker = 'o', label = 'Validation Loss')\n",
        "  plt.xlabel('Epochs')\n",
        "  plt.ylabel('Loss')\n",
        "  plt.title('Train/Validation Loss')\n",
        "  plt.legend()\n",
        "  plt.margins(0.02)\n",
        "  plt.show()\n",
        "\n",
        "\n",
        "loss_plot(history)"
      ],
      "execution_count": null,
      "outputs": [
        {
          "output_type": "display_data",
          "data": {
            "image/png": "[encoded data removed]",
            "text/plain": [
              "<Figure size 432x288 with 1 Axes>"
            ]
          },
          "metadata": {
            "tags": [],
            "needs_background": "light"
          }
        },
        {
          "output_type": "display_data",
          "data": {
            "image/png": "[encoded data removed]",
            "text/plain": [
              "<Figure size 648x360 with 1 Axes>"
            ]
          },
          "metadata": {
            "tags": [],
            "needs_background": "light"
          }
        }
      ]
    },
    {
      "cell_type": "markdown",
      "metadata": {
        "id": "1r93ADypWRV6",
        "colab_type": "text"
      },
      "source": [
        ""
      ]
    },
    {
      "cell_type": "markdown",
      "metadata": {
        "id": "yzHk2xmZWRdt",
        "colab_type": "text"
      },
      "source": [
        "  ### **2-CONVOLUTION NN**"
      ]
    },
    {
      "cell_type": "code",
      "metadata": {
        "id": "OHdFNr3bSExC",
        "colab_type": "code",
        "colab": {}
      },
      "source": [
        "from keras.layers import Conv2D"
      ],
      "execution_count": null,
      "outputs": []
    },
    {
      "cell_type": "code",
      "metadata": {
        "id": "rClhRgTLoUtU",
        "colab_type": "code",
        "colab": {
          "base_uri": "https://localhost:8080/",
          "height": 68
        },
        "outputId": "9cd559f5-ba42-4550-9785-053ea00cd8e9"
      },
      "source": [
        "cX_train = sX_train.reshape(-1,28,28,1)\n",
        "cX_val = X_val.reshape(-1,28,28,1)\n",
        "cX_test = X_test.reshape(-1,28,28,1)\n",
        "print('Train data shape:', cX_train.shape)\n",
        "print('Val data shape:', cX_val.shape)\n",
        "print('Test data shape:', cX_test.shape)"
      ],
      "execution_count": null,
      "outputs": [
        {
          "output_type": "stream",
          "text": [
            "Train data shape: (55000, 28, 28, 1)\n",
            "Val data shape: (5000, 28, 28, 1)\n",
            "Test data shape: (10000, 28, 28, 1)\n"
          ],
          "name": "stdout"
        }
      ]
    },
    {
      "cell_type": "code",
      "metadata": {
        "id": "jTvwsVSIqXmc",
        "colab_type": "code",
        "colab": {}
      },
      "source": [
        "model = Sequential(name='Seq_two')\n",
        "model.add(Conv2D(32, kernel_size=(3,3), input_shape=input_shape, activation = 'relu',name='conv2d_one' ))\n",
        "#32 is (number of kernels/filters)"
      ],
      "execution_count": null,
      "outputs": []
    },
    {
      "cell_type": "code",
      "metadata": {
        "id": "avtbbvyZrT-F",
        "colab_type": "code",
        "colab": {
          "base_uri": "https://localhost:8080/",
          "height": 289
        },
        "outputId": "27d4c3a5-846c-4159-9747-d0cdc042697d"
      },
      "source": [
        "from keras.layers import Flatten\n",
        "model.add(Flatten(name='Flatten_one'))\n",
        "model.add(Dense(128, activation= 'relu', name='dense_one'))\n",
        "model.add(Dense(10, activation='softmax',name= 'dense_two'))\n",
        "model.compile(loss ='sparse_categorical_crossentropy', optimizer=optimizer, metrics=['accuracy'])\n",
        "model.summary()"
      ],
      "execution_count": null,
      "outputs": [
        {
          "output_type": "stream",
          "text": [
            "Model: \"Seq_two\"\n",
            "_________________________________________________________________\n",
            "Layer (type)                 Output Shape              Param #   \n",
            "=================================================================\n",
            "conv2d_one (Conv2D)          (None, 26, 26, 32)        320       \n",
            "_________________________________________________________________\n",
            "Flatten_one (Flatten)        (None, 21632)             0         \n",
            "_________________________________________________________________\n",
            "dense_one (Dense)            (None, 128)               2769024   \n",
            "_________________________________________________________________\n",
            "dense_two (Dense)            (None, 10)                1290      \n",
            "=================================================================\n",
            "Total params: 2,770,634\n",
            "Trainable params: 2,770,634\n",
            "Non-trainable params: 0\n",
            "_________________________________________________________________\n"
          ],
          "name": "stdout"
        }
      ]
    },
    {
      "cell_type": "code",
      "metadata": {
        "id": "VQrw0x8UuJc4",
        "colab_type": "code",
        "colab": {
          "base_uri": "https://localhost:8080/",
          "height": 714
        },
        "outputId": "f2f1a699-2102-4bca-eda1-06494ddb1c01"
      },
      "source": [
        "history2=model.fit(cX_train, sy_train,epochs= epochs, batch_size= batch_size, validation_data=(cX_val,y_val) )"
      ],
      "execution_count": null,
      "outputs": [
        {
          "output_type": "stream",
          "text": [
            "Train on 55000 samples, validate on 5000 samples\n",
            "Epoch 1/20\n",
            "55000/55000 [==============================] - 42s 763us/step - loss: 1.0429 - accuracy: 0.9145 - val_loss: 0.2203 - val_accuracy: 0.9518\n",
            "Epoch 2/20\n",
            "55000/55000 [==============================] - 42s 762us/step - loss: 0.1158 - accuracy: 0.9693 - val_loss: 0.1697 - val_accuracy: 0.9602\n",
            "Epoch 3/20\n",
            "55000/55000 [==============================] - 42s 759us/step - loss: 0.0578 - accuracy: 0.9829 - val_loss: 0.1430 - val_accuracy: 0.9668\n",
            "Epoch 4/20\n",
            "55000/55000 [==============================] - 42s 760us/step - loss: 0.0325 - accuracy: 0.9904 - val_loss: 0.1522 - val_accuracy: 0.9674\n",
            "Epoch 5/20\n",
            "55000/55000 [==============================] - 42s 760us/step - loss: 0.0185 - accuracy: 0.9945 - val_loss: 0.1446 - val_accuracy: 0.9696\n",
            "Epoch 6/20\n",
            "55000/55000 [==============================] - 42s 763us/step - loss: 0.0134 - accuracy: 0.9961 - val_loss: 0.1326 - val_accuracy: 0.9698\n",
            "Epoch 7/20\n",
            "55000/55000 [==============================] - 42s 761us/step - loss: 0.0092 - accuracy: 0.9978 - val_loss: 0.1380 - val_accuracy: 0.9726\n",
            "Epoch 8/20\n",
            "55000/55000 [==============================] - 42s 762us/step - loss: 0.0081 - accuracy: 0.9977 - val_loss: 0.1443 - val_accuracy: 0.9726\n",
            "Epoch 9/20\n",
            "55000/55000 [==============================] - 42s 763us/step - loss: 0.0115 - accuracy: 0.9965 - val_loss: 0.1471 - val_accuracy: 0.9716\n",
            "Epoch 10/20\n",
            "55000/55000 [==============================] - 42s 759us/step - loss: 0.0134 - accuracy: 0.9956 - val_loss: 0.1499 - val_accuracy: 0.9740\n",
            "Epoch 11/20\n",
            "55000/55000 [==============================] - 41s 749us/step - loss: 0.0133 - accuracy: 0.9954 - val_loss: 0.1566 - val_accuracy: 0.9744\n",
            "Epoch 12/20\n",
            "55000/55000 [==============================] - 41s 753us/step - loss: 0.0094 - accuracy: 0.9970 - val_loss: 0.1558 - val_accuracy: 0.9718\n",
            "Epoch 13/20\n",
            "55000/55000 [==============================] - 41s 751us/step - loss: 0.0054 - accuracy: 0.9984 - val_loss: 0.1385 - val_accuracy: 0.9752\n",
            "Epoch 14/20\n",
            "55000/55000 [==============================] - 41s 748us/step - loss: 0.0025 - accuracy: 0.9994 - val_loss: 0.1428 - val_accuracy: 0.9760\n",
            "Epoch 15/20\n",
            "55000/55000 [==============================] - 41s 746us/step - loss: 0.0100 - accuracy: 0.9971 - val_loss: 0.1620 - val_accuracy: 0.9770\n",
            "Epoch 16/20\n",
            "55000/55000 [==============================] - 41s 751us/step - loss: 0.0103 - accuracy: 0.9967 - val_loss: 0.2079 - val_accuracy: 0.9724\n",
            "Epoch 17/20\n",
            "55000/55000 [==============================] - 41s 752us/step - loss: 0.0096 - accuracy: 0.9968 - val_loss: 0.1679 - val_accuracy: 0.9754\n",
            "Epoch 18/20\n",
            "55000/55000 [==============================] - 41s 751us/step - loss: 0.0046 - accuracy: 0.9986 - val_loss: 0.1664 - val_accuracy: 0.9776\n",
            "Epoch 19/20\n",
            "55000/55000 [==============================] - 41s 744us/step - loss: 0.0020 - accuracy: 0.9995 - val_loss: 0.1564 - val_accuracy: 0.9784\n",
            "Epoch 20/20\n",
            "55000/55000 [==============================] - 41s 747us/step - loss: 4.3681e-04 - accuracy: 0.9999 - val_loss: 0.1690 - val_accuracy: 0.9770\n"
          ],
          "name": "stdout"
        }
      ]
    },
    {
      "cell_type": "code",
      "metadata": {
        "id": "tqs6b0-Xxewm",
        "colab_type": "code",
        "colab": {
          "base_uri": "https://localhost:8080/",
          "height": 68
        },
        "outputId": "53a8cd09-35e6-4cd0-8fa4-a919305114e0"
      },
      "source": [
        "# evaluate model\n",
        "loss,acc = model.evaluate(cX_test, y_test)\n",
        "print('Test loss:', loss)\n",
        "print('Accuracy:', acc)"
      ],
      "execution_count": null,
      "outputs": [
        {
          "output_type": "stream",
          "text": [
            "10000/10000 [==============================] - 2s 206us/step\n",
            "Test loss: 0.13040405083741788\n",
            "Accuracy: 0.9789999723434448\n"
          ],
          "name": "stdout"
        }
      ]
    },
    {
      "cell_type": "code",
      "metadata": {
        "id": "aXas7vCS3XjI",
        "colab_type": "code",
        "colab": {
          "base_uri": "https://localhost:8080/",
          "height": 628
        },
        "outputId": "e0ab066a-aa29-45ac-95e0-887460da7267"
      },
      "source": [
        "# plot training loss\n",
        "loss_plot(history2)"
      ],
      "execution_count": null,
      "outputs": [
        {
          "output_type": "display_data",
          "data": {
            "image/png": "[encoded data removed]",
            "text/plain": [
              "<Figure size 432x288 with 1 Axes>"
            ]
          },
          "metadata": {
            "tags": [],
            "needs_background": "light"
          }
        },
        {
          "output_type": "display_data",
          "data": {
            "image/png": "[encoded data removed]",
            "text/plain": [
              "<Figure size 648x360 with 1 Axes>"
            ]
          },
          "metadata": {
            "tags": [],
            "needs_background": "light"
          }
        }
      ]
    },
    {
      "cell_type": "code",
      "metadata": {
        "id": "sArVhvcC3s9Z",
        "colab_type": "code",
        "colab": {}
      },
      "source": [
        ""
      ],
      "execution_count": null,
      "outputs": []
    }
  ]
}